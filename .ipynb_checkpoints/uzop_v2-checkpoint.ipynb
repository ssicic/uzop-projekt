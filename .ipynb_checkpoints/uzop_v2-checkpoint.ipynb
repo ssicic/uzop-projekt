{
 "cells": [
  {
   "cell_type": "markdown",
   "id": "922f9ca0-fda0-43f6-9be0-a63bd762e2bd",
   "metadata": {},
   "source": [
    "## Uvod u Znanost o podacima - Sara Sičić"
   ]
  },
  {
   "cell_type": "markdown",
   "id": "b222a9f7-7ca7-4c6f-b1bd-a255507faf75",
   "metadata": {},
   "source": [
    "------------------------------\n",
    "\n",
    "### Članak: Metabolism-associated molecular classiﬁcation of hepatocellular carcinoma\n",
    "\n",
    "Karcinom jetre jedan je od najkompliciranijih karcinoma zbog velike raznolikosti gena koji su ekspresirani u uzorcima karcinoma. To znatno otežava i analizu podataka i liječenje pacijenata. Cilj članka je podijeliti uzorke karcinoma jetre u tri grupe (klastera), od kojih svaka grupa ima određene karakteristike, npr. dobra prognoza ili loša prognoza, te na temelju 90 metaboličkih gena predvidjeti kojoj grupi karcinom pripada.\n",
    "\n",
    "------------------------------\n"
   ]
  },
  {
   "cell_type": "code",
   "execution_count": 1,
   "id": "2a823734",
   "metadata": {},
   "outputs": [],
   "source": [
    "import sys\n",
    "import pandas as pd\n",
    "import numpy as np\n",
    "from gtfparse import read_gtf\n",
    "import csv\n",
    "from tabulate import tabulate\n",
    "import os\n",
    "import gzip\n",
    "import xlrd\n",
    "import shutil\n",
    "from scipy import stats\n",
    "from os import listdir\n",
    "from os.path import isfile, join\n",
    "from combat.pycombat import pycombat\n",
    "\n",
    "import scipy as sp\n",
    "from lifelines import CoxPHFitter\n",
    "from sklearn.decomposition import PCA\n",
    "from sklearn.cluster import KMeans\n",
    "import matplotlib.pyplot as plt\n",
    "from sklearn.datasets import make_blobs\n",
    "\n",
    "from sklearn.feature_selection import SelectKBest\n",
    "from sklearn.feature_selection import chi2\n",
    "from sklearn.pipeline import make_pipeline\n",
    "from sklearn.preprocessing import StandardScaler\n",
    "from sklearn.preprocessing import MinMaxScaler\n",
    "from sklearn.svm import SVC\n",
    "from sklearn.metrics import classification_report\n",
    "from sklearn.metrics import confusion_matrix"
   ]
  },
  {
   "cell_type": "code",
   "execution_count": 2,
   "id": "f12a62c2",
   "metadata": {},
   "outputs": [],
   "source": [
    "#!{sys.executable} -m pip install gtfparse\n",
    "#!{sys.executable} -m pip install tabulate\n",
    "#!{sys.executable} -m pip install xlrd\n",
    "#!{sys.executable} -m pip install lifelines\n",
    "#!{sys.executable} -m pip install scipy\n",
    "#!{sys.executable} -m pip install combat --user\n",
    "#!{sys.executable} -m pip install scikit-survival\n",
    "#!{sys.executable} -m pip install xlrd\n",
    "#!{sys.executable} -m pip install kneed"
   ]
  },
  {
   "cell_type": "markdown",
   "id": "4914a082",
   "metadata": {},
   "source": [
    "### 0) Provjera podataka"
   ]
  },
  {
   "cell_type": "markdown",
   "id": "e05b25f1",
   "metadata": {},
   "source": [
    "***Prokomentirajte vrstu istraživanja provedenu u članku prema: svrsi, izvoru informacija, vremenu provedbe, načinu prikupljanja i vrsti korištenih podataka, stupnju manipulacije varijablama, dubini i vrsti zaključka - obrazložite svoj izbor za svaku pojedinu podjelu.***\n",
    "<br> <br>\n",
    "Vrsta istraživanja u ovom članku prema svrsi je primijenjeno istraživanje s obzirom da je fokusirano na stvaranje praktičnog znanstvenog znanja. Na temelju podataka pacijenata koji su imali karcinom jetre nastoje se karakterizirati molekularna svojstva karcinoma jetre razvojem sustava klasifikacije koji se temelji na profilu ekspresije metaboličkih gena.\n",
    "<br>\n",
    "Prema izvoru informacija ovo istraživanje je sekundarno istraživanje, s obzirom da su istraživači koristili podatke koje nisu sami sastavili.\n",
    "<br>\n",
    "Ovo istraživanje je sinkrono istraživanje po vremenu provedbe s obzirom da uzima podatke iz jedne točke u vremenu za svakog pacijenta.\n",
    "<br>\n",
    "Prema načinu prikupljanja korištenih podataka ovo istraživanje je dokumentarno istraživanje s obzirom da su gotovi podaci preuzeti sa istraživačkih web-stranica.\n",
    "<br>\n",
    "Istraživanje je kvantitativno prema vrsti korištenih podataka jer koristi mjerljive podatke o pacijentima kako bi se uz.\n",
    "<br>\n",
    "S obzirom na stupanj manipulacije varijablama, ovo istraživanje je promatračko zato što istraživači ne interveniraju izravno već analiziraju karcinom jetre u njegovom prirodnom kontekstu.\n",
    "<br>\n",
    "Prema dubini ovo je istraživačko istraživanje jer se temelji na proučavanju slabo proučavanih pojava i manje se oslanja na teoriju, a više na prikupljanje podataka. \n",
    "<br>\n",
    "Ovo istraživanje je prema vrsti zaključka hipotetičko-deduktivno s obzirom da se na početku istraživanja postavlja hipoteza o mogućnosti klasifikacije karcinoma jetre na temelju metaboličkih gena.\n",
    "<br>"
   ]
  },
  {
   "cell_type": "markdown",
   "id": "f2983a59",
   "metadata": {},
   "source": [
    "***Prokomentirajte metode kako su podaci za članak prikupljeni.***\n",
    "<br> <br>\n",
    "Prema metodama s kojima su podaci za ovaj članak prikupljeni, ovo je dokumentarno istraživanje zato što su to podaci prikupljeni s javno dostupnih web-stranica koje sadrže podatke namijenjene istraživačkoj zajednici."
   ]
  },
  {
   "cell_type": "markdown",
   "id": "ff950ab0",
   "metadata": {},
   "source": [
    "***Provjerite jesu li podaci prikupljeni i objavljeni prema pravilima istraživačke etike.***\n",
    "<br> <br>\n",
    "Na stranici TCGA pronašla sam da su oformili skupinu koja se bavi etikom, zakonom i politikom čiji je cilj pravedna i efektivna uporaba podataka genomnih podataka vezanih uz rak. Oni tvrde da pri pikupljanju svojih podataka nastoje osigurati zaštitu sudionika u projektu, uključujući i njihovu privatnost, siguran pristup TCGA podacima te pravovremen pristup podacima istraživačkoj zajednici. <br>ICGC ARGO, odakle sam preuzela ICGC podatke za istraživanje, ima etički okvir za partnerstva s industrijom čija su temeljna načela uzajamnost, transparentnost, odgovornost, akademska sloboda i društvena korist. ICGC ARGO također ima radnu skupinu za etiku, politiku i upravljanje AEGC čiji je cilj podržati ICGC ARGO s etičkim načelima i smjernicama koje osiguravaju odgovarajuću obradu podataka od pacijenata u skladu s etičkim, pravnim i socijalnim pitanjima."
   ]
  },
  {
   "cell_type": "markdown",
   "id": "4ad6e791-e99a-4a9d-b61e-21d44b909cee",
   "metadata": {},
   "source": [
    "### 1) Priprema podataka"
   ]
  },
  {
   "cell_type": "markdown",
   "id": "d2aa78a8",
   "metadata": {},
   "source": [
    "Podatke sam sve stavila u folder \"files\", unzippala sam ih i ostavila originalna imena, jedino sam tcga podatke extractala u folder \"tcga\"."
   ]
  },
  {
   "cell_type": "code",
   "execution_count": 2,
   "id": "2f670cf1",
   "metadata": {},
   "outputs": [],
   "source": [
    "path = 'C:/Users/Sara/Documents/My Fax/UZOP/files/'"
   ]
  },
  {
   "cell_type": "code",
   "execution_count": 3,
   "id": "e8b0c6b0-9f99-436d-8db5-f2c4999f79be",
   "metadata": {},
   "outputs": [],
   "source": [
    "#metabolicki geni\n",
    "df = pd.ExcelFile(path + '41586_2011_BFnature10350_MOESM321_ESM.xls').parse('All metabolic genes') #you could add index_col=0 if there's an index\n",
    "gene_set=set()\n",
    "for cell in df['Gene Symbol']:\n",
    "    gene_set.add(cell)\n",
    "    "
   ]
  },
  {
   "cell_type": "code",
   "execution_count": 4,
   "id": "79fae19b-e240-4cbf-9b78-d6c6dbf74f17",
   "metadata": {},
   "outputs": [
    {
     "name": "stderr",
     "output_type": "stream",
     "text": [
      "INFO:root:Extracted GTF attributes: ['gene_id', 'gene_type', 'gene_status', 'gene_name', 'level', 'havana_gene', 'transcript_id', 'transcript_type', 'transcript_status', 'transcript_name', 'tag', 'transcript_support_level', 'havana_transcript', 'exon_number', 'exon_id', 'ont', 'protein_id', 'ccdsid']\n"
     ]
    }
   ],
   "source": [
    "#anotacije\n",
    "annot = read_gtf(path + 'gencode.v22.annotation.gtf')\n",
    "gene_dict_id = dict()\n",
    "gene_dict_len = dict()\n",
    "\n",
    "gene_set_2 = set()\n",
    "for i in range (0, len(annot)):\n",
    "    if annot[\"gene_name\"][i].upper() in gene_set:\n",
    "        if ((annot[\"end\"][i]-annot[\"start\"][i])!=0):\n",
    "            gene_set_2.add(annot[\"gene_name\"][i])\n",
    "            gene_dict_id[annot[\"gene_id\"][i]]=annot[\"gene_name\"][i]\n",
    "            gene_dict_len[annot[\"gene_name\"][i]]=annot[\"end\"][i]-annot[\"start\"][i]\n",
    "            "
   ]
  },
  {
   "cell_type": "code",
   "execution_count": 5,
   "id": "08871dcd-8f7f-43de-9a90-c9fef6b2c118",
   "metadata": {},
   "outputs": [],
   "source": [
    "#icgc ucitavanje\n",
    "file_icgc = open(path + 'exp_seq.tsv')\n",
    "icgc_df = pd.read_csv(file_icgc, delimiter=\"\\t\")\n",
    "icgc_df = icgc_df.loc[:, ['icgc_donor_id','gene_id','raw_read_count']]\n",
    "icgc_df = icgc_df[icgc_df['gene_id'].isin(gene_set_2)]"
   ]
  },
  {
   "cell_type": "code",
   "execution_count": 6,
   "id": "c88f8281",
   "metadata": {},
   "outputs": [
    {
     "name": "stdout",
     "output_type": "stream",
     "text": [
      "        donor_id  gene_id  raw_read_count\n",
      "0        DO50855    SGPP1        3.874531\n",
      "1        DO50855  SLC37A2        0.285830\n",
      "2        DO50855  SLC6A11        2.827911\n",
      "3        DO50855     DERA       45.659909\n",
      "4        DO50855  PLA2G4E        0.112523\n",
      "...          ...      ...             ...\n",
      "1070522  DO23508    COX8C        0.003774\n",
      "1070523  DO23508    KCNC3        0.159332\n",
      "1070524  DO23508   SLC3A1        2.772726\n",
      "1070525  DO23508    ACAD8        2.993089\n",
      "1070526  DO23508     PFKP        3.124463\n",
      "\n",
      "[1070527 rows x 3 columns]\n"
     ]
    }
   ],
   "source": [
    "#icgc tpm\n",
    "icgc_count = dict()\n",
    "icgc_data = []\n",
    "\n",
    "for index, row in icgc_df.iterrows():\n",
    "    rrc0 = float(row['raw_read_count'])\n",
    "    genelen = float(gene_dict_len[row['gene_id']])\n",
    "    rrc = rrc0/genelen\n",
    "    icgc_data.append([row['icgc_donor_id'], row['gene_id'], rrc])\n",
    "    if row['icgc_donor_id'] not in icgc_count:\n",
    "        icgc_count[row['icgc_donor_id']]=rrc\n",
    "    else:\n",
    "        icgc_count[row['icgc_donor_id']]+=rrc         \n",
    "        \n",
    "for row in icgc_data:\n",
    "    row[2] = row[2] / icgc_count[row[0]] * 1000000\n",
    "    \n",
    "icgc_df = pd.DataFrame(icgc_data, columns=['donor_id','gene_id','raw_read_count'])\n",
    "print(icgc_df)"
   ]
  },
  {
   "cell_type": "code",
   "execution_count": 7,
   "id": "bf367543",
   "metadata": {
    "scrolled": true
   },
   "outputs": [],
   "source": [
    "#tcga ucitavanje\n",
    "dir_tcga = os.listdir(path + 'tcga')\n",
    "n=0\n",
    "data = []\n",
    "for dir in dir_tcga:\n",
    "    n += 1\n",
    "    dirName = path + 'tcga/'+dir\n",
    "    for f in listdir(dirName):\n",
    "        if (f.endswith('gz')):\n",
    "            file = dirName+'/'+ f\n",
    "            patientName = f[0:len(f)-16]\n",
    "            tcgaFile = pd.read_csv(file, compression='gzip', sep='\\t')\n",
    "            for index, row in tcgaFile.iterrows():\n",
    "                geneid = tcgaFile.iloc[index,0]\n",
    "                if geneid in gene_dict_id:\n",
    "                    if gene_dict_id[geneid] in gene_set_2:\n",
    "                        data.append([patientName, gene_dict_id[geneid], tcgaFile.iloc[index,1] ])\n",
    "    if (n==5):\n",
    "        break\n",
    "        \n",
    "tcga_df = pd.DataFrame(data, columns=['donor_id','gene_id','raw_read_count'])"
   ]
  },
  {
   "cell_type": "markdown",
   "id": "650be2f9",
   "metadata": {},
   "source": [
    "TCGA mi se sporo učitava i zauzima puno memorije pa sam učitala samo prvih 5 pacijenata."
   ]
  },
  {
   "cell_type": "code",
   "execution_count": 8,
   "id": "50b1a26c-59f1-436f-97ba-8fc4bde581f2",
   "metadata": {},
   "outputs": [
    {
     "name": "stdout",
     "output_type": "stream",
     "text": [
      "                                   donor_id  gene_id  raw_read_count\n",
      "0      3243c347-c219-487f-87fa-ec4046feee81     DPM1      155.269356\n",
      "1      3243c347-c219-487f-87fa-ec4046feee81    FUCA2       21.749406\n",
      "2      3243c347-c219-487f-87fa-ec4046feee81     GCLC      538.137711\n",
      "3      3243c347-c219-487f-87fa-ec4046feee81    ENPP4        0.091643\n",
      "4      3243c347-c219-487f-87fa-ec4046feee81     CFTR        0.014477\n",
      "...                                     ...      ...             ...\n",
      "13260  0ab21a73-a03d-4ef6-954b-460e7ca4ae6d    DHRSX        0.000000\n",
      "13261  0ab21a73-a03d-4ef6-954b-460e7ca4ae6d    ASMTL        0.000000\n",
      "13262  0ab21a73-a03d-4ef6-954b-460e7ca4ae6d  SLC25A6        0.000000\n",
      "13263  0ab21a73-a03d-4ef6-954b-460e7ca4ae6d   PLCXD1        0.000000\n",
      "13264  0ab21a73-a03d-4ef6-954b-460e7ca4ae6d     ASMT        0.000000\n",
      "\n",
      "[13265 rows x 3 columns]\n"
     ]
    }
   ],
   "source": [
    "#tcga tpm\n",
    "tcga_count = dict()\n",
    "tcga_data = []\n",
    "\n",
    "for index, row in tcga_df.iterrows():\n",
    "    rrc0 = float(row['raw_read_count'])\n",
    "    genelen = float(gene_dict_len[row['gene_id']])\n",
    "    rrc = rrc0/genelen\n",
    "    tcga_data.append([row['donor_id'], row['gene_id'], rrc])\n",
    "    if row['donor_id'] not in tcga_count:\n",
    "        tcga_count[row['donor_id']]=rrc\n",
    "    else:\n",
    "        tcga_count[row['donor_id']]+=rrc         \n",
    "for row in tcga_data:\n",
    "    row[2] = row[2] / tcga_count[row[0]] * 1000000\n",
    "        \n",
    "tcga_df = pd.DataFrame(tcga_data, columns=['donor_id','gene_id','raw_read_count'])\n",
    "print(tcga_df)"
   ]
  },
  {
   "cell_type": "code",
   "execution_count": 9,
   "id": "bc51db25",
   "metadata": {},
   "outputs": [
    {
     "name": "stdout",
     "output_type": "stream",
     "text": [
      "                                     donor_id  gene_id  raw_read_count\n",
      "0                                     DO50855    SGPP1        3.874531\n",
      "1                                     DO50855  SLC37A2        0.285830\n",
      "2                                     DO50855  SLC6A11        2.827911\n",
      "3                                     DO50855     DERA       45.659909\n",
      "4                                     DO50855  PLA2G4E        0.112523\n",
      "...                                       ...      ...             ...\n",
      "1083787  0ab21a73-a03d-4ef6-954b-460e7ca4ae6d    DHRSX        0.000000\n",
      "1083788  0ab21a73-a03d-4ef6-954b-460e7ca4ae6d    ASMTL        0.000000\n",
      "1083789  0ab21a73-a03d-4ef6-954b-460e7ca4ae6d  SLC25A6        0.000000\n",
      "1083790  0ab21a73-a03d-4ef6-954b-460e7ca4ae6d   PLCXD1        0.000000\n",
      "1083791  0ab21a73-a03d-4ef6-954b-460e7ca4ae6d     ASMT        0.000000\n",
      "\n",
      "[1083792 rows x 3 columns]\n"
     ]
    }
   ],
   "source": [
    "icgc_df_new = icgc_df.rename(columns={\"icgc_donor_id\": \"donor_id\"})\n",
    "result_df = pd.concat([icgc_df_new, tcga_df], axis=0)\n",
    "result_df.fillna(0)\n",
    "result_df = result_df.reset_index().drop(columns=['index'])\n",
    "print(result_df)"
   ]
  },
  {
   "cell_type": "code",
   "execution_count": 10,
   "id": "5acc6cc5-78ed-49af-afae-c409a3f7767d",
   "metadata": {},
   "outputs": [],
   "source": [
    "pivoted_df = result_df.pivot_table(index=[\"gene_id\"], columns=[\"donor_id\"], values=['raw_read_count']).fillna(0)\n",
    "pivoted_df = pivoted_df['raw_read_count']"
   ]
  },
  {
   "cell_type": "code",
   "execution_count": 11,
   "id": "a147d20f-49f2-487c-bb2a-75279ada90cd",
   "metadata": {},
   "outputs": [],
   "source": [
    "icgc_pivot = icgc_df_new.reset_index().drop(columns=['index']).pivot_table(index=[\"gene_id\"], columns=[\"donor_id\"], values=['raw_read_count'])['raw_read_count']\n",
    "tcga_pivot = tcga_df.reset_index().drop(columns=['index']).pivot_table(index=[\"gene_id\"], columns=[\"donor_id\"], values=['raw_read_count'])['raw_read_count']"
   ]
  },
  {
   "cell_type": "code",
   "execution_count": 13,
   "id": "d68b6b83-df91-4d1e-b0fd-3c83c6a1c482",
   "metadata": {},
   "outputs": [
    {
     "name": "stdout",
     "output_type": "stream",
     "text": [
      "Found 2 batches.\n",
      "Adjusting for 0 covariate(s) or covariate level(s).\n",
      "Standardizing Data across genes.\n",
      "Fitting L/S model and finding priors.\n",
      "Finding parametric adjustments.\n",
      "Adjusting the Data\n"
     ]
    }
   ],
   "source": [
    "#pycombat\n",
    "batch = []\n",
    "datasets = [icgc_pivot, tcga_pivot]\n",
    "\n",
    "for j in range(len(datasets)):\n",
    "    batch.extend([j for _ in range(len(datasets[j].columns))])\n",
    "\n",
    "df_corrected = pycombat(pivoted_df,batch)"
   ]
  },
  {
   "cell_type": "markdown",
   "id": "93e59ecd",
   "metadata": {},
   "source": [
    "PyComBat mi se povremeno pokrene bez greške, a povremeno sa ZeroDivision Error."
   ]
  },
  {
   "cell_type": "code",
   "execution_count": 14,
   "id": "099d26ce",
   "metadata": {},
   "outputs": [],
   "source": [
    "pivoted_df = df_corrected"
   ]
  },
  {
   "cell_type": "markdown",
   "id": "d0d1b058-80c6-4c8f-b493-c7129769d314",
   "metadata": {},
   "source": [
    "### 2) Odabir bitnih gena i klasteriranje"
   ]
  },
  {
   "cell_type": "code",
   "execution_count": 15,
   "id": "c08be0ea-d291-468b-b016-ba1fb96c06a2",
   "metadata": {},
   "outputs": [],
   "source": [
    "#MAD\n",
    "#>0.5\n",
    "n = 0\n",
    "new_genes = set()\n",
    "counts_mad = dict()\n",
    "for index, row in pivoted_df.iterrows():\n",
    "    for r in row:\n",
    "        if index not in counts_mad:\n",
    "            counts_mad[index] = [r]\n",
    "        else:\n",
    "            counts_mad[index].append(r)\n",
    "for key in counts_mad:\n",
    "    if (sp.stats.median_abs_deviation(counts_mad[key])>0.5):\n",
    "        new_genes.add(key)\n",
    "mad_df = pivoted_df.loc[pivoted_df.index.isin(new_genes)]\n",
    "mad_t_df = mad_df.T"
   ]
  },
  {
   "cell_type": "code",
   "execution_count": 16,
   "id": "34f173d0-7176-4ae1-98da-8e533b56993b",
   "metadata": {},
   "outputs": [],
   "source": [
    "#uctavanje survival podataka\n",
    "dfile1 = open(path + 'donor.tsv')\n",
    "icgc_donor = pd.read_csv(dfile1, delimiter=\"\\t\")\n",
    "dfile2 = open(path + 'clinical.tsv')\n",
    "tcga_donor = pd.read_csv(dfile2, delimiter=\"\\t\")\n",
    "\n",
    "survivalDict = dict()\n",
    "icgc_donor_df = icgc_donor.loc[:,['icgc_donor_id', 'donor_vital_status', 'donor_survival_time']];\n",
    "icgc_donor_df.rename(columns={'icgc_donor_id':'donor_id', 'donor_vital_status':'status', 'donor_survival_time':'time'}, inplace=True)\n",
    "tcga_donor_df = tcga_donor.loc[:,['case_id', 'vital_status', 'days_to_death']];\n",
    "tcga_donor_df.rename(columns={'case_id':'donor_id', 'vital_status':'status', 'days_to_death':'time'}, inplace=True)\n",
    "tcga_donor_df['time'] = np.where((tcga_donor_df.time == '\\'--'),'100000',tcga_donor_df.time)"
   ]
  },
  {
   "cell_type": "code",
   "execution_count": 17,
   "id": "8a070464",
   "metadata": {},
   "outputs": [
    {
     "name": "stdout",
     "output_type": "stream",
     "text": [
      "                 A1CF       AACS        AADAC      AADAT      AASDH  AASDHPPT  \\\n",
      "donor_id                                                                        \n",
      "DO227643   663.856580   5.899341  3167.218507  47.723629   5.908291  1.324934   \n",
      "DO227801   693.596851   8.207149  3287.612254  74.648573   7.330446  1.819825   \n",
      "DO23508    550.083945  31.634208  2407.691029  66.906955   5.987326  1.367535   \n",
      "DO23509    824.990405  16.143312  2490.069803  72.310830   8.477000  2.723710   \n",
      "DO23510    956.044117  17.244403  3882.010486  74.584308   8.925709  3.248385   \n",
      "...               ...        ...          ...        ...        ...       ...   \n",
      "DO50845   1657.505022  99.887587  5266.818748  62.678193  24.916050  4.725823   \n",
      "DO50850    916.946208   9.545876  2595.071376  70.716349   9.276737  2.791269   \n",
      "DO50855    704.680795  20.674086  3058.487053  73.279183   7.131722  2.579423   \n",
      "DO50857   1479.153877  35.049352  5009.358768  80.542104  27.969307  5.462858   \n",
      "DO50859   1374.564658  25.081731  3029.001526  80.162770  10.027412  3.108556   \n",
      "\n",
      "                AASS         ABAT       ABCA1      ABCA10  ...       VDAC1  \\\n",
      "donor_id                                                   ...               \n",
      "DO227643  100.863667  1761.601481   51.185429   98.315820  ...   44.084635   \n",
      "DO227801   51.850837  1936.499867   63.705600  117.478784  ...  108.991544   \n",
      "DO23508    45.145132  1304.147748   49.380134   59.254046  ...   63.998746   \n",
      "DO23509   445.951050  1863.754873  207.800271   22.365834  ...   61.530616   \n",
      "DO23510    84.023641  2158.803064   80.556483   74.231358  ...   84.149425   \n",
      "...              ...          ...         ...         ...  ...         ...   \n",
      "DO50845   414.807231  1755.056334  296.987345  124.556767  ...  165.532909   \n",
      "DO50850    42.014054  2534.024041  229.503333  103.891737  ...  100.685017   \n",
      "DO50855   103.136224  2364.870022  164.182035  136.654553  ...   81.682060   \n",
      "DO50857   477.576134  3987.394947  206.180483  278.748805  ...  169.654399   \n",
      "DO50859   232.683068  3167.280318  106.751331  176.581530  ...   92.652908   \n",
      "\n",
      "              VDAC2        VDAC3      VKORC1         XDH       XYLB     XYLT1  \\\n",
      "donor_id                                                                        \n",
      "DO227643  20.095799   195.700362  482.644509  343.154008  19.271548  0.473621   \n",
      "DO227801  26.408266   186.166255  343.555548  261.163745  35.887329  1.114431   \n",
      "DO23508   46.538887   240.246635  198.164243  162.312184  17.097300  0.348867   \n",
      "DO23509   28.022619   285.962981  222.054235  131.123932  36.397995  0.984682   \n",
      "DO23510   30.769407   182.059261  347.584941  278.561026  55.927889  1.393935   \n",
      "...             ...          ...         ...         ...        ...       ...   \n",
      "DO50845   46.179532  1052.048252  270.591890   97.794978  41.485757  0.821718   \n",
      "DO50850   23.775717   114.604681  296.333966  187.900760  38.330458  1.541664   \n",
      "DO50855   26.057708   135.421118  315.248210  125.935037  28.187955  1.304035   \n",
      "DO50857   72.304167   559.774795  420.852269  360.280862  76.221813  8.517385   \n",
      "DO50859   38.316857   409.256860  578.514420  347.255823  43.625414  0.575291   \n",
      "\n",
      "              ZADH2    status  time  \n",
      "donor_id                             \n",
      "DO227643  19.185393     alive  1260  \n",
      "DO227801  18.535226     alive   660  \n",
      "DO23508   25.314641     alive   390  \n",
      "DO23509   30.541805  deceased   780  \n",
      "DO23510   24.257798     alive   870  \n",
      "...             ...       ...   ...  \n",
      "DO50845   49.962647     alive   210  \n",
      "DO50850   31.449359     alive   720  \n",
      "DO50855   25.759263     alive   570  \n",
      "DO50857   61.217287     alive   210  \n",
      "DO50859   37.515290     alive   180  \n",
      "\n",
      "[232 rows x 1877 columns]\n"
     ]
    }
   ],
   "source": [
    "donor_df = pd.concat([icgc_donor_df,tcga_donor_df], axis=0)\n",
    "donor_df = donor_df.set_index('donor_id')\n",
    "mad_t_df = mad_t_df.reset_index().set_index('donor_id')\n",
    "\n",
    "drop_mad_df = mad_t_df[mad_t_df.index.isin(donor_df.index)]\n",
    "drop_donor_df = donor_df[donor_df.index.isin(mad_t_df.index)]\n",
    "drop_mad_df = drop_mad_df[drop_mad_df.index.isin(drop_donor_df.index)]\n",
    "drop_mad_df = drop_mad_df[~drop_mad_df.index.duplicated(keep='first')]\n",
    "donor_df = pd.concat([drop_mad_df, drop_donor_df], axis=1, join='inner')\n",
    "\n",
    "print(donor_df)"
   ]
  },
  {
   "cell_type": "code",
   "execution_count": 18,
   "id": "8cfbe53b-0caa-476a-874a-c8bb22b4fd2d",
   "metadata": {},
   "outputs": [
    {
     "data": {
      "text/plain": [
       "<lifelines.CoxPHFitter: fitted with 232 total observations, 189 right-censored observations>"
      ]
     },
     "execution_count": 18,
     "metadata": {},
     "output_type": "execute_result"
    }
   ],
   "source": [
    "#COX analiza\n",
    "coxphf = CoxPHFitter(penalizer=0.1, alpha=0.05)\n",
    "cpf_donor_df = donor_df.reset_index().drop(['donor_id'], axis=1)\n",
    "cpf_donor_df[\"status\"] = cpf_donor_df[\"status\"].map(lambda x: 0 if x == 'alive' else 1)\n",
    "coxphf.fit(cpf_donor_df, event_col='status', duration_col='time')"
   ]
  },
  {
   "cell_type": "markdown",
   "id": "7b857ec7",
   "metadata": {},
   "source": [
    "Pri COX analizi stavila sam penalizer na vrijednost 0.9 zbog kolinearnosti u matrici koju mu predajem."
   ]
  },
  {
   "cell_type": "code",
   "execution_count": 19,
   "id": "5efb08f5-a78e-447d-8bb7-5bb42771d289",
   "metadata": {},
   "outputs": [
    {
     "name": "stdout",
     "output_type": "stream",
     "text": [
      "1875\n"
     ]
    }
   ],
   "source": [
    "cox_genes = set()\n",
    "for i in coxphf.params_.index:\n",
    "    cox_genes.add(i)\n",
    "print(len(cox_genes))"
   ]
  },
  {
   "cell_type": "code",
   "execution_count": 20,
   "id": "046c73df",
   "metadata": {},
   "outputs": [],
   "source": [
    "cox_df = mad_df[mad_df.index.isin(cox_genes)]"
   ]
  },
  {
   "cell_type": "code",
   "execution_count": 21,
   "id": "6f9c3dfc",
   "metadata": {},
   "outputs": [
    {
     "name": "stdout",
     "output_type": "stream",
     "text": [
      "(237, 1875)\n"
     ]
    }
   ],
   "source": [
    "#KMeans\n",
    "km_df = cox_df.T #koristim mad_df koji je bez survival podataka, zato ne koristimo mad_t_df - tom su dodani survival podaci\n",
    "print(km_df.shape)\n",
    "model = KMeans(\n",
    "    init=\"k-means++\",\n",
    "    n_clusters=3,\n",
    "    n_init=4,\n",
    "    max_iter=300,\n",
    "    )"
   ]
  },
  {
   "cell_type": "code",
   "execution_count": 22,
   "id": "b8ea66ef-e442-4190-b887-50eecb13e3a7",
   "metadata": {},
   "outputs": [
    {
     "name": "stdout",
     "output_type": "stream",
     "text": [
      "[2 2 0 2 2 2 2 0 0 2 0 0 2 0 2 2 1 0 0 2 0 0 2 2 1 0 0 2 0 2 0 2 0 0 1 0 2\n",
      " 0 0 2 0 1 0 1 0 2 2 2 0 2 2 0 2 0 0 0 0 0 0 0 2 2 2 2 2 0 2 0 2 2 2 2 2 0\n",
      " 2 2 0 2 1 1 2 2 1 2 2 2 2 0 2 2 2 2 0 2 2 1 1 0 2 2 2 0 2 2 0 2 1 2 2 2 0\n",
      " 0 0 0 2 2 2 2 2 2 0 2 2 2 1 0 2 0 0 0 0 0 2 2 2 2 2 2 0 1 2 2 2 2 2 0 0 1\n",
      " 2 2 1 2 2 2 2 0 0 2 2 2 0 2 0 0 2 0 0 0 2 0 2 0 2 2 2 0 2 2 2 0 0 2 0 2 0\n",
      " 2 0 2 2 2 2 0 2 0 1 2 2 2 2 0 2 2 2 2 0 2 2 0 2 2 0 2 2 0 0 1 1 0 0 0 1 2\n",
      " 2 2 1 2 1 2 1 1 2 2 0 2 2 2 2]\n"
     ]
    },
    {
     "data": {
      "image/png": "[encoded data removed]",
      "text/plain": [
       "<Figure size 720x720 with 1 Axes>"
      ]
     },
     "metadata": {
      "needs_background": "light"
     },
     "output_type": "display_data"
    }
   ],
   "source": [
    "pca = PCA(n_components = 2)\n",
    "data = pca.fit_transform(km_df)\n",
    "label = model.fit_predict(km_df)\n",
    "print(label)\n",
    "plt.figure(figsize=(10,10))\n",
    "uniq = np.unique(label)\n",
    "for i in uniq:\n",
    "   plt.scatter(data[label == i , 0] , data[label == i , 1] , label = i)"
   ]
  },
  {
   "cell_type": "markdown",
   "id": "2f7e4d27",
   "metadata": {},
   "source": [
    "### 3)\tKlasifikacija pomoću 90 gena\n",
    "Zadnji korak u ovom projektu je treniranje klasifikatora koji na temelju 90 najznačajnijih gena određuje kojem klasteru (C1, C2, ili C3) pripada karcinom."
   ]
  },
  {
   "cell_type": "code",
   "execution_count": 23,
   "id": "c0ea218d",
   "metadata": {},
   "outputs": [
    {
     "name": "stdout",
     "output_type": "stream",
     "text": [
      "[[0.07498277 0.04611101 0.         ... 0.         0.00260991 0.01800517]\n",
      " [0.         0.         0.04669525 ... 0.01815489 0.         0.        ]\n",
      " [0.05141106 0.03286567 0.08832934 ... 0.02569933 0.05640713 0.0200248 ]\n",
      " ...\n",
      " [0.05477608 0.22074107 0.18320909 ... 0.1030814  0.08472573 0.13765134]\n",
      " [0.15259092 0.05918143 0.19388877 ... 0.15324176 0.13031077 0.05782147]\n",
      " [0.07271305 0.0882884  0.07298566 ... 0.06678953 0.08427117 0.02118143]]\n",
      "(237, 90)\n"
     ]
    }
   ],
   "source": [
    "#feature selection algoritam\n",
    "train_df = cox_df.T\n",
    "scaler = MinMaxScaler()\n",
    "scaler.fit(train_df)\n",
    "train_df = scaler.transform(train_df)\n",
    "select_df = SelectKBest(chi2, k=90).fit_transform(train_df, label)\n",
    "print(select_df)\n",
    "print(select_df.shape)"
   ]
  },
  {
   "cell_type": "code",
   "execution_count": 24,
   "id": "e2a9d8ab",
   "metadata": {},
   "outputs": [
    {
     "name": "stdout",
     "output_type": "stream",
     "text": [
      "[2 2 0 2 2 2 2 0 0 2 2 2 2 0 2 2 1 0 2 2 0 2 2 2 1 0 0 2 0 2 2 2 0 0 1 2 2\n",
      " 0 0 2 0 1 0 1 0 2 2 2 2 2 2 0 2 0 0 0 0 0 0 0 2 2 2 2 2 2 2 0 2 2 2 2 2 2\n",
      " 2 2 2 2 1 1 2 2 1 2 2 2 2 0 2 2 2 2 2 2 2 1 1 2 2 2 2 0 2 2 0 2 1 2 2 2 2\n",
      " 0 0 2 2 2 2 2 2 2 0 2 2 2 1 0 2 0 0 0 0 0 2 2 2 2 2 2 2 1 2 2 2 2 2 0 2 1\n",
      " 2 2 1 2 2 2 2 0 0 2 2 2 0 2 2 0 2 2 2 2 2 2 2 0 2 2 2 2 2 2 2 2 0 2 0 2 0\n",
      " 2 2 2 2 2 2 0 2 2 1 2 2 2 2 2 2 2 2 2 0 2 2 0 2 2 0 2 2 0 0 2 1 0 0 0 1 2\n",
      " 2 2 1 2 1 2 1 1 2 2 0 2 2 2 2]\n"
     ]
    }
   ],
   "source": [
    "#klasifikator SVM\n",
    "clf = make_pipeline(StandardScaler(), SVC(gamma='auto'))\n",
    "clf.fit(train_df, label)\n",
    "y_pred = clf.predict(train_df)\n",
    "print(y_pred)"
   ]
  },
  {
   "cell_type": "code",
   "execution_count": 25,
   "id": "2f4a64c0",
   "metadata": {},
   "outputs": [
    {
     "name": "stdout",
     "output_type": "stream",
     "text": [
      "              precision    recall  f1-score   support\n",
      "\n",
      "           0       1.00      0.68      0.81        82\n",
      "           1       1.00      0.96      0.98        23\n",
      "           2       0.83      1.00      0.91       132\n",
      "\n",
      "    accuracy                           0.89       237\n",
      "   macro avg       0.94      0.88      0.90       237\n",
      "weighted avg       0.91      0.89      0.88       237\n",
      "\n",
      "[[ 56   0  26]\n",
      " [  0  22   1]\n",
      " [  0   0 132]]\n"
     ]
    }
   ],
   "source": [
    "#prikaz rezultata\n",
    "print(classification_report(label, y_pred))\n",
    "print(confusion_matrix(label, y_pred))"
   ]
  },
  {
   "cell_type": "markdown",
   "id": "4d12ed79",
   "metadata": {},
   "source": [
    "Precision predstavlja omjer točno pozitivno klasificiranih primjera i zbroja točno pozitivno i lažno pozitivno klasificiranih primjera. Recall je omjer točno pozitivno klasificiranih primjera i zbroja točno pozitivno i lažno negativno klasificiranih primjera. F1-score je kvocijent umnoška precisiona i recalla te zbroja precisiona i recalla, pomnožen s dva. Support je brojnost primjera klasificiranih u pojedinu klasu.\n",
    "<br>\n",
    "Matrica konfuzije predstavlja koliko primjera svake klase je klasificirano u svaku pojedinačnu klasu."
   ]
  },
  {
   "cell_type": "code",
   "execution_count": null,
   "id": "eca4db7f",
   "metadata": {},
   "outputs": [],
   "source": []
  }
 ],
 "metadata": {
  "kernelspec": {
   "display_name": "Python 3 (ipykernel)",
   "language": "python",
   "name": "python3"
  },
  "language_info": {
   "codemirror_mode": {
    "name": "ipython",
    "version": 3
   },
   "file_extension": ".py",
   "mimetype": "text/x-python",
   "name": "python",
   "nbconvert_exporter": "python",
   "pygments_lexer": "ipython3",
   "version": "3.8.8"
  }
 },
 "nbformat": 4,
 "nbformat_minor": 5
}
