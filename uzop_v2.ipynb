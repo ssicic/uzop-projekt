{
 "cells": [
  {
   "cell_type": "markdown",
   "id": "922f9ca0-fda0-43f6-9be0-a63bd762e2bd",
   "metadata": {},
   "source": [
    "## Uvod u Znanost o podacima - Sara Sicic"
   ]
  },
  {
   "cell_type": "markdown",
   "id": "b222a9f7-7ca7-4c6f-b1bd-a255507faf75",
   "metadata": {},
   "source": [
    "------------------------------\n",
    "\n",
    "### Članak: Metabolism-associated molecular classiﬁcation of hepatocellular carcinoma\n",
    "\n",
    "Karcinom jetre jedan je od najkompliciranijih karcinoma zbog velike raznolikosti gena koji su ekspresirani u uzorcima karcinoma. To znatno otežava i analizu podataka i liječenje pacijenata. Cilj članka je podijeliti uzorke karcinoma jetre u tri grupe (klastera), od kojih svaka grupa ima određene karakteristike, npr. dobra prognoza ili loša prognoza, te na temelju 90 metaboličkih gena predvidjeti kojoj grupi karcinom pripada.\n",
    "\n",
    "------------------------------\n"
   ]
  },
  {
   "cell_type": "code",
   "execution_count": 1,
   "id": "7b9980cc-e8f5-4d45-86dc-d1991b4e6dd7",
   "metadata": {},
   "outputs": [],
   "source": [
    "#importi\n",
    "import sys\n",
    "#!{sys.executable} -m pip install gtfparse\n",
    "#!{sys.executable} -m pip install tabulate\n",
    "#!{sys.executable} -m pip install xlrd\n",
    "#!{sys.executable} -m pip install lifelines\n",
    "#!{sys.executable} -m pip install scipy\n",
    "#!{sys.executable} -m pip install combat --user\n",
    "#!{sys.executable} -m pip install scikit-survival\n",
    "#!{sys.executable} -m pip install xlrd\n",
    "#!{sys.executable} -m pip install kneed"
   ]
  },
  {
   "cell_type": "code",
   "execution_count": 2,
   "id": "19c28228-745e-480f-a97f-34bf58ac3fd2",
   "metadata": {},
   "outputs": [],
   "source": [
    "import pandas as pd\n",
    "import numpy as np\n",
    "from gtfparse import read_gtf\n",
    "import csv\n",
    "from tabulate import tabulate\n",
    "import os\n",
    "import gzip\n",
    "import xlrd\n",
    "import shutil\n",
    "from scipy import stats\n",
    "from os import listdir\n",
    "from os.path import isfile, join\n",
    "from combat.pycombat import pycombat\n",
    "from sklearn.decomposition import PCA"
   ]
  },
  {
   "cell_type": "markdown",
   "id": "4ad6e791-e99a-4a9d-b61e-21d44b909cee",
   "metadata": {},
   "source": [
    "### 1) Priprema podataka"
   ]
  },
  {
   "cell_type": "markdown",
   "id": "d2aa78a8",
   "metadata": {},
   "source": [
    "Podatke sam sve stavila u folder \"files\", unzippala sam ih i ostavila originalna imena, jedino sam tcga podatke extractala u folder \"tcga\". Ako ćete pokretati sa svog računala zamjenite path u idućem dijelu sa svojim."
   ]
  },
  {
   "cell_type": "code",
   "execution_count": 3,
   "id": "2f670cf1",
   "metadata": {},
   "outputs": [],
   "source": [
    "path = 'C:/Users/Sara/Documents/My Fax/UZOP/files/'"
   ]
  },
  {
   "cell_type": "code",
   "execution_count": 4,
   "id": "e8b0c6b0-9f99-436d-8db5-f2c4999f79be",
   "metadata": {},
   "outputs": [],
   "source": [
    "#metabolicki geni\n",
    "df = pd.ExcelFile(path + '41586_2011_BFnature10350_MOESM321_ESM.xls').parse('All metabolic genes') #you could add index_col=0 if there's an index\n",
    "gene_set=set()\n",
    "for cell in df['Gene Symbol']:\n",
    "    gene_set.add(cell)\n",
    "    "
   ]
  },
  {
   "cell_type": "code",
   "execution_count": 5,
   "id": "79fae19b-e240-4cbf-9b78-d6c6dbf74f17",
   "metadata": {},
   "outputs": [
    {
     "name": "stderr",
     "output_type": "stream",
     "text": [
      "INFO:root:Extracted GTF attributes: ['gene_id', 'gene_type', 'gene_status', 'gene_name', 'level', 'havana_gene', 'transcript_id', 'transcript_type', 'transcript_status', 'transcript_name', 'tag', 'transcript_support_level', 'havana_transcript', 'exon_number', 'exon_id', 'ont', 'protein_id', 'ccdsid']\n"
     ]
    }
   ],
   "source": [
    "#anotacije\n",
    "annot = read_gtf(path + 'gencode.v22.annotation.gtf')\n",
    "gene_dict_id = dict()\n",
    "gene_dict_len = dict()\n",
    "\n",
    "gene_set_2 = set()\n",
    "for i in range (0, len(annot)):\n",
    "    if annot[\"gene_name\"][i].upper() in gene_set:\n",
    "        if ((annot[\"end\"][i]-annot[\"start\"][i])!=0):\n",
    "            gene_set_2.add(annot[\"gene_name\"][i])\n",
    "            gene_dict_id[annot[\"gene_id\"][i]]=annot[\"gene_name\"][i]\n",
    "            gene_dict_len[annot[\"gene_name\"][i]]=annot[\"end\"][i]-annot[\"start\"][i]\n",
    "            "
   ]
  },
  {
   "cell_type": "code",
   "execution_count": 6,
   "id": "08871dcd-8f7f-43de-9a90-c9fef6b2c118",
   "metadata": {},
   "outputs": [
    {
     "name": "stdout",
     "output_type": "stream",
     "text": [
      "        icgc_donor_id         gene_id  raw_read_count\n",
      "0             DO50855            MPP2            3608\n",
      "1             DO50855  TMEM189-UBE2V1          446395\n",
      "2             DO50855            ELF3         1275154\n",
      "3             DO50855            SPEG            6104\n",
      "4             DO50855         PTPN20A              59\n",
      "...               ...             ...             ...\n",
      "8342109       DO23508          PEX11G           47800\n",
      "8342110       DO23508          CHTF18           35983\n",
      "8342111       DO23508          TXNDC6            1958\n",
      "8342112       DO23508          ZNF33A          166682\n",
      "8342113       DO23508       LOC283481           10453\n",
      "\n",
      "[8342114 rows x 3 columns]\n"
     ]
    }
   ],
   "source": [
    "#icgc ucitavanje\n",
    "file_icgc = open(path + 'exp_seq.tsv')\n",
    "icgc_df = pd.read_csv(file_icgc, delimiter=\"\\t\")\n",
    "icgc_df = icgc_df.loc[:, ['icgc_donor_id','gene_id','raw_read_count']]\n",
    "print(icgc_df)"
   ]
  },
  {
   "cell_type": "code",
   "execution_count": 7,
   "id": "e50b242d",
   "metadata": {},
   "outputs": [
    {
     "name": "stdout",
     "output_type": "stream",
     "text": [
      "        icgc_donor_id  gene_id  raw_read_count\n",
      "14            DO50855    SGPP1          193710\n",
      "58            DO50855  SLC37A2           16555\n",
      "70            DO50855  SLC6A11           27485\n",
      "72            DO50855     DERA          130239\n",
      "77            DO50855  PLA2G4E            1477\n",
      "...               ...      ...             ...\n",
      "8342083       DO23508    COX8C              34\n",
      "8342091       DO23508    KCNC3            3516\n",
      "8342094       DO23508   SLC3A1           16897\n",
      "8342099       DO23508    ACAD8          146259\n",
      "8342100       DO23508     PFKP           17030\n",
      "\n",
      "[1070527 rows x 3 columns]\n"
     ]
    }
   ],
   "source": [
    "icgc_df = icgc_df[icgc_df['gene_id'].isin(gene_set_2)]\n",
    "print(icgc_df)"
   ]
  },
  {
   "cell_type": "code",
   "execution_count": 8,
   "id": "c88f8281",
   "metadata": {},
   "outputs": [
    {
     "name": "stdout",
     "output_type": "stream",
     "text": [
      "        donor_id  gene_id  raw_read_count\n",
      "0        DO50855    SGPP1        3.874531\n",
      "1        DO50855  SLC37A2        0.285830\n",
      "2        DO50855  SLC6A11        2.827911\n",
      "3        DO50855     DERA       45.659909\n",
      "4        DO50855  PLA2G4E        0.112523\n",
      "...          ...      ...             ...\n",
      "1070522  DO23508    COX8C        0.003774\n",
      "1070523  DO23508    KCNC3        0.159332\n",
      "1070524  DO23508   SLC3A1        2.772726\n",
      "1070525  DO23508    ACAD8        2.993089\n",
      "1070526  DO23508     PFKP        3.124463\n",
      "\n",
      "[1070527 rows x 3 columns]\n"
     ]
    }
   ],
   "source": [
    "#icgc tpm\n",
    "\n",
    "icgc_count = dict()\n",
    "icgc_data = []\n",
    "\n",
    "for index, row in icgc_df.iterrows():\n",
    "    rrc0 = float(row['raw_read_count'])\n",
    "    genelen = float(gene_dict_len[row['gene_id']])\n",
    "    rrc = rrc0/genelen\n",
    "    icgc_data.append([row['icgc_donor_id'], row['gene_id'], rrc])\n",
    "    \n",
    "    if row['icgc_donor_id'] not in icgc_count:\n",
    "        icgc_count[row['icgc_donor_id']]=rrc\n",
    "    else:\n",
    "        icgc_count[row['icgc_donor_id']]+=rrc         \n",
    "        \n",
    "for row in icgc_data:\n",
    "    row[2] = row[2] * 1000000 / icgc_count[row[0]]\n",
    "    \n",
    "        \n",
    "icgc_df = pd.DataFrame(icgc_data, columns=['donor_id','gene_id','raw_read_count'])\n",
    "\n",
    "print(icgc_df)"
   ]
  },
  {
   "cell_type": "code",
   "execution_count": 9,
   "id": "bf367543",
   "metadata": {
    "scrolled": true
   },
   "outputs": [
    {
     "name": "stdout",
     "output_type": "stream",
     "text": [
      "                                   donor_id  gene_id  raw_read_count\n",
      "0      3243c347-c219-487f-87fa-ec4046feee81     DPM1            1200\n",
      "1      3243c347-c219-487f-87fa-ec4046feee81    FUCA2            3719\n",
      "2      3243c347-c219-487f-87fa-ec4046feee81     GCLC            4159\n",
      "3      3243c347-c219-487f-87fa-ec4046feee81    ENPP4             271\n",
      "4      3243c347-c219-487f-87fa-ec4046feee81     CFTR               2\n",
      "...                                     ...      ...             ...\n",
      "13260  0ab21a73-a03d-4ef6-954b-460e7ca4ae6d    DHRSX               0\n",
      "13261  0ab21a73-a03d-4ef6-954b-460e7ca4ae6d    ASMTL               0\n",
      "13262  0ab21a73-a03d-4ef6-954b-460e7ca4ae6d  SLC25A6               0\n",
      "13263  0ab21a73-a03d-4ef6-954b-460e7ca4ae6d   PLCXD1               0\n",
      "13264  0ab21a73-a03d-4ef6-954b-460e7ca4ae6d     ASMT               0\n",
      "\n",
      "[13265 rows x 3 columns]\n"
     ]
    }
   ],
   "source": [
    "#tcga ucitavanje\n",
    "\n",
    "dir_tcga = os.listdir(path + 'tcga')\n",
    "n=0\n",
    "data = []\n",
    "for dir in dir_tcga:\n",
    "    n += 1\n",
    "    dirName = path + 'tcga/'+dir\n",
    "    for f in listdir(dirName):\n",
    "        if (f.endswith('gz')):\n",
    "            file = dirName+'/'+ f\n",
    "            patientName = f[0:len(f)-16]\n",
    "            tcgaFile = pd.read_csv(file, compression='gzip', sep='\\t')\n",
    "            for index, row in tcgaFile.iterrows():\n",
    "                geneid = tcgaFile.iloc[index,0]\n",
    "                if geneid in gene_dict_id:\n",
    "                    if gene_dict_id[geneid] in gene_set_2:\n",
    "                        data.append([patientName, gene_dict_id[geneid], tcgaFile.iloc[index,1] ])\n",
    "    if (n==5):\n",
    "        break\n",
    "        \n",
    "tcga_df = pd.DataFrame(data, columns=['donor_id','gene_id','raw_read_count'])\n",
    "print(tcga_df)"
   ]
  },
  {
   "cell_type": "code",
   "execution_count": 10,
   "id": "50b1a26c-59f1-436f-97ba-8fc4bde581f2",
   "metadata": {},
   "outputs": [
    {
     "name": "stdout",
     "output_type": "stream",
     "text": [
      "                                   donor_id  gene_id  raw_read_count\n",
      "0      3243c347-c219-487f-87fa-ec4046feee81     DPM1      155.269356\n",
      "1      3243c347-c219-487f-87fa-ec4046feee81    FUCA2       21.749406\n",
      "2      3243c347-c219-487f-87fa-ec4046feee81     GCLC      538.137711\n",
      "3      3243c347-c219-487f-87fa-ec4046feee81    ENPP4        0.091643\n",
      "4      3243c347-c219-487f-87fa-ec4046feee81     CFTR        0.014477\n",
      "...                                     ...      ...             ...\n",
      "13260  0ab21a73-a03d-4ef6-954b-460e7ca4ae6d    DHRSX        0.000000\n",
      "13261  0ab21a73-a03d-4ef6-954b-460e7ca4ae6d    ASMTL        0.000000\n",
      "13262  0ab21a73-a03d-4ef6-954b-460e7ca4ae6d  SLC25A6        0.000000\n",
      "13263  0ab21a73-a03d-4ef6-954b-460e7ca4ae6d   PLCXD1        0.000000\n",
      "13264  0ab21a73-a03d-4ef6-954b-460e7ca4ae6d     ASMT        0.000000\n",
      "\n",
      "[13265 rows x 3 columns]\n"
     ]
    }
   ],
   "source": [
    "#tcga tpm\n",
    "\n",
    "tcga_count = dict()\n",
    "tcga_data = []\n",
    "\n",
    "for index, row in tcga_df.iterrows():\n",
    "    rrc0 = float(row['raw_read_count'])\n",
    "    genelen = float(gene_dict_len[row['gene_id']])\n",
    "    rrc = rrc0/genelen\n",
    "    tcga_data.append([row['donor_id'], row['gene_id'], rrc])\n",
    "    \n",
    "    if row['donor_id'] not in tcga_count:\n",
    "        tcga_count[row['donor_id']]=rrc\n",
    "    else:\n",
    "        tcga_count[row['donor_id']]+=rrc         \n",
    "\n",
    "for row in tcga_data:\n",
    "    row[2] = row[2] * 1000000 / tcga_count[row[0]]\n",
    "    \n",
    "        \n",
    "tcga_df = pd.DataFrame(tcga_data, columns=['donor_id','gene_id','raw_read_count'])\n",
    "\n",
    "print(tcga_df)"
   ]
  },
  {
   "cell_type": "code",
   "execution_count": 11,
   "id": "bc51db25",
   "metadata": {},
   "outputs": [
    {
     "name": "stdout",
     "output_type": "stream",
     "text": [
      "                                   donor_id  gene_id  raw_read_count\n",
      "0                                   DO50855    SGPP1        3.874531\n",
      "1                                   DO50855  SLC37A2        0.285830\n",
      "2                                   DO50855  SLC6A11        2.827911\n",
      "3                                   DO50855     DERA       45.659909\n",
      "4                                   DO50855  PLA2G4E        0.112523\n",
      "...                                     ...      ...             ...\n",
      "13260  0ab21a73-a03d-4ef6-954b-460e7ca4ae6d    DHRSX        0.000000\n",
      "13261  0ab21a73-a03d-4ef6-954b-460e7ca4ae6d    ASMTL        0.000000\n",
      "13262  0ab21a73-a03d-4ef6-954b-460e7ca4ae6d  SLC25A6        0.000000\n",
      "13263  0ab21a73-a03d-4ef6-954b-460e7ca4ae6d   PLCXD1        0.000000\n",
      "13264  0ab21a73-a03d-4ef6-954b-460e7ca4ae6d     ASMT        0.000000\n",
      "\n",
      "[1083792 rows x 3 columns]\n"
     ]
    }
   ],
   "source": [
    "icgc_df_new = icgc_df.rename(columns={\"icgc_donor_id\": \"donor_id\"})\n",
    "result_df = pd.concat([icgc_df_new, tcga_df], axis=0)\n",
    "result_df.fillna(0)\n",
    "#result_df['gene_id_and_donor_id'] = result_df['gene_id'] + result_df['donor_id']\n",
    "print(result_df)"
   ]
  },
  {
   "cell_type": "code",
   "execution_count": 12,
   "id": "5acc6cc5-78ed-49af-afae-c409a3f7767d",
   "metadata": {},
   "outputs": [
    {
     "name": "stdout",
     "output_type": "stream",
     "text": [
      "                                        index  \\\n",
      "donor_id 0ab21a73-a03d-4ef6-954b-460e7ca4ae6d   \n",
      "gene_id                                         \n",
      "A1CF                                  12044.0   \n",
      "A4GALT                                11558.0   \n",
      "A4GNT                                 11404.0   \n",
      "AACS                                  10876.0   \n",
      "AADAC                                 11319.0   \n",
      "...                                       ...   \n",
      "XYLB                                  10955.0   \n",
      "XYLT1                                 11089.0   \n",
      "XYLT2                                 10684.0   \n",
      "ZACN                                  12943.0   \n",
      "ZADH2                                 12794.0   \n",
      "\n",
      "                                                                              \\\n",
      "donor_id 3243c347-c219-487f-87fa-ec4046feee81  DO227643  DO227801    DO23508   \n",
      "gene_id                                                                        \n",
      "A1CF                                   1432.0  634065.0  655774.0  1067013.0   \n",
      "A4GALT                                  946.0  633679.0  654844.0  1066066.0   \n",
      "A4GNT                                   792.0  635989.0  655341.0  1068981.0   \n",
      "AACS                                    264.0  634029.0  655739.0  1066977.0   \n",
      "AADAC                                   707.0  634429.0  656161.0  1067386.0   \n",
      "...                                       ...       ...       ...        ...   \n",
      "XYLB                                    343.0  634328.0  656052.0  1067289.0   \n",
      "XYLT1                                   477.0  633243.0  654923.0  1066144.0   \n",
      "XYLT2                                    72.0  634135.0  655846.0  1066480.0   \n",
      "ZACN                                   2331.0  634401.0  656132.0  1067359.0   \n",
      "ZADH2                                  2182.0  634171.0  655883.0  1067118.0   \n",
      "\n",
      "                                                                ...  \\\n",
      "donor_id    DO23509    DO23510    DO23511    DO23512   DO23513  ...   \n",
      "gene_id                                                         ...   \n",
      "A1CF      1062232.0  1011773.0  1007007.0  1002283.0  997475.0  ...   \n",
      "A4GALT    1061346.0  1010835.0  1006627.0  1001372.0  996511.0  ...   \n",
      "A4GNT     1061830.0  1011338.0  1008932.0  1004246.0  997027.0  ...   \n",
      "AACS      1062199.0  1011739.0  1006974.0  1002245.0  997440.0  ...   \n",
      "AADAC     1062601.0  1012152.0  1007363.0  1002654.0  997855.0  ...   \n",
      "...             ...        ...        ...        ...       ...  ...   \n",
      "XYLB      1062496.0  1012042.0  1007266.0  1002550.0  997738.0  ...   \n",
      "XYLT1     1061426.0  1010922.0  1006205.0  1001450.0  996594.0  ...   \n",
      "XYLT2     1062302.0  1011840.0  1007076.0  1002352.0  996925.0  ...   \n",
      "ZACN      1062570.0  1012122.0  1007335.0  1002625.0  997820.0  ...   \n",
      "ZADH2     1062337.0  1011877.0  1007109.0  1002387.0  996833.0  ...   \n",
      "\n",
      "         raw_read_count                                                      \\\n",
      "donor_id        DO50840      DO50844      DO50845      DO50850      DO50855   \n",
      "gene_id                                                                       \n",
      "A1CF         891.923875  2997.502435  1666.784991  1061.457245   445.500569   \n",
      "A4GALT         0.712395     1.555526     1.810673     0.877418     2.011114   \n",
      "A4GNT          0.007900     0.000000     0.000000     0.000000     0.991008   \n",
      "AACS          14.251736    93.306295   100.810764     5.074946    31.632307   \n",
      "AADAC       1755.399741   154.800868  5299.078374  2707.231896  2224.550373   \n",
      "...                 ...          ...          ...          ...          ...   \n",
      "XYLB          21.608644    56.986739    41.763284    42.036372    35.354167   \n",
      "XYLT1          0.991164     4.894052     0.860711     1.816527     2.303988   \n",
      "XYLT2          1.607589     6.312077     5.519591     1.303541     2.820959   \n",
      "ZACN           2.134127     5.231826     7.124699     0.452878     1.654366   \n",
      "ZADH2         18.633941   103.670071    50.352300    30.318895    28.349087   \n",
      "\n",
      "                                                                         \\\n",
      "donor_id      DO50857      DO50859 ad69efb1-61ab-4492-8468-9006dd00e915   \n",
      "gene_id                                                                   \n",
      "A1CF      1711.834044  1031.108538                            87.790614   \n",
      "A4GALT       0.934752     0.190643                             0.186086   \n",
      "A4GNT        0.059119     0.022821                             0.015165   \n",
      "AACS        18.999177    10.736223                            10.675980   \n",
      "AADAC     4957.060622  1947.636026                           266.356119   \n",
      "...               ...          ...                                  ...   \n",
      "XYLB        89.697668    30.839970                             9.695751   \n",
      "XYLT1        3.251823     0.213650                             0.195545   \n",
      "XYLT2        1.545654     0.909141                             0.664316   \n",
      "ZACN         0.625129     0.506512                             0.010976   \n",
      "ZADH2       35.875618    13.288628                             3.366072   \n",
      "\n",
      "                                               \\\n",
      "donor_id c33e56c0-2daf-4b0b-993f-51d2d99a7b53   \n",
      "gene_id                                         \n",
      "A1CF                               102.990628   \n",
      "A4GALT                               1.023794   \n",
      "A4GNT                                0.010207   \n",
      "AACS                                 3.929562   \n",
      "AADAC                              575.677186   \n",
      "...                                       ...   \n",
      "XYLB                                 9.553966   \n",
      "XYLT1                                0.998994   \n",
      "XYLT2                                0.611568   \n",
      "ZACN                                 0.005488   \n",
      "ZADH2                                6.620345   \n",
      "\n",
      "                                               \n",
      "donor_id ee9c5d88-69be-4863-9e80-95ebd10fe530  \n",
      "gene_id                                        \n",
      "A1CF                               254.258715  \n",
      "A4GALT                               0.653262  \n",
      "A4GNT                                0.000000  \n",
      "AACS                                 7.528565  \n",
      "AADAC                             1582.244725  \n",
      "...                                       ...  \n",
      "XYLB                                 9.766266  \n",
      "XYLT1                                1.392694  \n",
      "XYLT2                                0.575625  \n",
      "ZACN                                 0.006615  \n",
      "ZADH2                               11.434139  \n",
      "\n",
      "[2637 rows x 474 columns]\n"
     ]
    }
   ],
   "source": [
    "pivoted_df = result_df.reset_index().pivot_table(index=[\"gene_id\"], columns=[\"donor_id\"], aggfunc='first')\n",
    "dropped_df = pivoted_df.fillna(0)\n",
    "print(dropped_df)"
   ]
  },
  {
   "cell_type": "code",
   "execution_count": 13,
   "id": "a147d20f-49f2-487c-bb2a-75279ada90cd",
   "metadata": {},
   "outputs": [],
   "source": [
    "icgc_pivot = icgc_df_new.reset_index().pivot_table(index=[\"gene_id\"], columns=[\"donor_id\"], aggfunc='first')\n",
    "tcga_pivot = tcga_df.reset_index().pivot_table(index=[\"gene_id\"], columns=[\"donor_id\"], aggfunc='first')"
   ]
  },
  {
   "cell_type": "code",
   "execution_count": 14,
   "id": "d68b6b83-df91-4d1e-b0fd-3c83c6a1c482",
   "metadata": {},
   "outputs": [
    {
     "ename": "NameError",
     "evalue": "name 'batch' is not defined",
     "output_type": "error",
     "traceback": [
      "\u001b[1;31m---------------------------------------------------------------------------\u001b[0m",
      "\u001b[1;31mNameError\u001b[0m                                 Traceback (most recent call last)",
      "\u001b[1;32m<ipython-input-14-1ef701f4a6a9>\u001b[0m in \u001b[0;36m<module>\u001b[1;34m\u001b[0m\n\u001b[0;32m      3\u001b[0m \u001b[1;33m\u001b[0m\u001b[0m\n\u001b[0;32m      4\u001b[0m \u001b[1;32mfor\u001b[0m \u001b[0mj\u001b[0m \u001b[1;32min\u001b[0m \u001b[0mrange\u001b[0m\u001b[1;33m(\u001b[0m\u001b[0mlen\u001b[0m\u001b[1;33m(\u001b[0m\u001b[0mdatasets\u001b[0m\u001b[1;33m)\u001b[0m\u001b[1;33m)\u001b[0m\u001b[1;33m:\u001b[0m\u001b[1;33m\u001b[0m\u001b[1;33m\u001b[0m\u001b[0m\n\u001b[1;32m----> 5\u001b[1;33m     \u001b[0mbatch\u001b[0m\u001b[1;33m.\u001b[0m\u001b[0mextend\u001b[0m\u001b[1;33m(\u001b[0m\u001b[1;33m[\u001b[0m\u001b[0mj\u001b[0m \u001b[1;32mfor\u001b[0m \u001b[0m_\u001b[0m \u001b[1;32min\u001b[0m \u001b[0mrange\u001b[0m\u001b[1;33m(\u001b[0m\u001b[0mlen\u001b[0m\u001b[1;33m(\u001b[0m\u001b[0mdatasets\u001b[0m\u001b[1;33m[\u001b[0m\u001b[0mj\u001b[0m\u001b[1;33m]\u001b[0m\u001b[1;33m.\u001b[0m\u001b[0mcolumns\u001b[0m\u001b[1;33m)\u001b[0m\u001b[1;33m)\u001b[0m\u001b[1;33m]\u001b[0m\u001b[1;33m)\u001b[0m\u001b[1;33m\u001b[0m\u001b[1;33m\u001b[0m\u001b[0m\n\u001b[0m\u001b[0;32m      6\u001b[0m \u001b[1;33m\u001b[0m\u001b[0m\n\u001b[0;32m      7\u001b[0m \u001b[0mdf_corrected\u001b[0m \u001b[1;33m=\u001b[0m \u001b[0mpycombat\u001b[0m\u001b[1;33m(\u001b[0m\u001b[0mdropped_df\u001b[0m\u001b[1;33m,\u001b[0m\u001b[0mbatch\u001b[0m\u001b[1;33m)\u001b[0m\u001b[1;33m\u001b[0m\u001b[1;33m\u001b[0m\u001b[0m\n",
      "\u001b[1;31mNameError\u001b[0m: name 'batch' is not defined"
     ]
    }
   ],
   "source": [
    "#pycombat\n",
    "datasets = [icgc_pivot, tcga_pivot]\n",
    "\n",
    "for j in range(len(datasets)):\n",
    "    batch.extend([j for _ in range(len(datasets[j].columns))])\n",
    "\n",
    "df_corrected = pycombat(dropped_df,batch)\n",
    "\n"
   ]
  },
  {
   "cell_type": "markdown",
   "id": "d0d1b058-80c6-4c8f-b493-c7129769d314",
   "metadata": {},
   "source": [
    "### 2) Odabir bitnih gena i klasteriranje"
   ]
  },
  {
   "cell_type": "code",
   "execution_count": null,
   "id": "c08be0ea-d291-468b-b016-ba1fb96c06a2",
   "metadata": {},
   "outputs": [],
   "source": [
    "#MAD\n",
    "#>0.5\n",
    "import scipy as sp\n",
    "n = 0\n",
    "counts_mad = dict()\n",
    "for index, row in dropped_df.iterrows():\n",
    "    for r in row:\n",
    "        if index not in counts_mad:\n",
    "            counts_mad[index] = [r]\n",
    "        else:\n",
    "            counts_mad[index].append(r)\n",
    "for key in counts_mad:\n",
    "    if (sp.stats.median_abs_deviation(counts_mad[key])>0.5):\n",
    "        new_genes.add(key)\n",
    "mad_df = dropped_df.loc[dropped_df.index.isin(new_genes)]\n",
    "#mad_df = result_df.loc[result_df['gene_id'].isin(new_genes)]\n",
    "#print(mad_df)\n",
    "#mad_up_df =  mad_df.pivot(id_vars=['index'], var_name='donor_id', value_name='rrc') \n",
    "#mad_up_df = pd.melt(mad_df, value_vars=['donor_id', 'rrc'])\n",
    "mad_t_df = mad_df.T\n",
    "#mad_up_df = mad_df.pivot_table(index=[\"donor_id\"], columns=[\"gene_id\"], aggfunc='first')\n",
    "print(mad_t_df)"
   ]
  },
  {
   "cell_type": "code",
   "execution_count": null,
   "id": "34f173d0-7176-4ae1-98da-8e533b56993b",
   "metadata": {},
   "outputs": [],
   "source": [
    "#uctavanje survival podataka\n",
    "dfile1 = open(path + 'donor.tsv')\n",
    "icgc_donor = pd.read_csv(dfile1, delimiter=\"\\t\")\n",
    "dfile2 = open(path + 'clinical.tsv')\n",
    "tcga_donor = pd.read_csv(dfile2, delimiter=\"\\t\")\n",
    "\n",
    "    \n",
    "survivalDict = dict()\n",
    "icgc_donor_df = icgc_donor.loc[:,['icgc_donor_id', 'donor_vital_status', 'donor_survival_time']];\n",
    "icgc_donor_df.rename(columns={'icgc_donor_id':'donor_id', 'donor_vital_status':'status', 'donor_survival_time':'time'}, inplace=True)\n",
    "tcga_donor_df = tcga_donor.loc[:,['case_id', 'vital_status', 'days_to_death']];\n",
    "tcga_donor_df.rename(columns={'case_id':'donor_id', 'vital_status':'status', 'days_to_death':'time'}, inplace=True)\n",
    "\n",
    "donor_df = icgc_donor_df\n",
    "donor_df = pd.concat([icgc_donor_df,tcga_donor_df], axis=0)\n",
    "donor_df = donor_df.set_index('donor_id')\n",
    "#print(mad_t_df.index)\n",
    "mad_t_df = mad_t_df.reset_index().set_index('donor_id')\n",
    "\n",
    "drop_mad_df = mad_t_df[mad_t_df.index.isin(donor_df.index)]\n",
    "drop_donor_df = donor_df[donor_df.index.isin(mad_t_df.index)]\n",
    "drop_mad_df = drop_mad_df[drop_mad_df.index.isin(drop_donor_df.index)]\n",
    "#donor_df = donor_df.drop_duplicates()\n",
    "print(\"donor\", drop_donor_df.shape,\"mad T\", mad_t_df.shape,\"cetr\", drop_mad_df.shape)\n",
    "print(drop_mad_df.index)\n",
    "print('----')\n",
    "print(drop_donor_df.index)\n",
    "drop_mad_df = drop_mad_df[~drop_mad_df.index.duplicated(keep='first')]\n",
    "donor_df = pd.concat([drop_mad_df, drop_donor_df], axis=1, join='inner')\n",
    "print(\"==========\")\n",
    "print(donor_df)"
   ]
  },
  {
   "cell_type": "markdown",
   "id": "8d9103d3-fb7d-47a3-929c-b7fbda6291d6",
   "metadata": {},
   "source": [
    "Nisam uspjela pronaci koji stupac u tcga_donor bi odgovarao vremenu prezivljavanja pacijenta do smrti.set_index"
   ]
  },
  {
   "cell_type": "code",
   "execution_count": null,
   "id": "8cfbe53b-0caa-476a-874a-c8bb22b4fd2d",
   "metadata": {},
   "outputs": [],
   "source": [
    "from lifelines import CoxPHFitter\n",
    "\n",
    "coxphf = CoxPHFitter(penalizer=0.9)\n",
    "cpf_donor_df = donor_df.reset_index().drop(['donor_id', 'level_0', 'index'], axis=1)\n",
    "cpf_donor_df[\"status\"] = cpf_donor_df[\"status\"].map(lambda x: 0 if x == 'alive' else 1)\n",
    "coxphf.fit(cpf_donor_df, event_col='status', duration_col='time')\n"
   ]
  },
  {
   "cell_type": "code",
   "execution_count": null,
   "id": "5efb08f5-a78e-447d-8bb7-5bb42771d289",
   "metadata": {},
   "outputs": [],
   "source": [
    "c=0\n",
    "for param in coxphf.params_:\n",
    "    if (param>0):\n",
    "        c+=1\n",
    "print(c)"
   ]
  },
  {
   "cell_type": "code",
   "execution_count": null,
   "id": "adc9b8ae",
   "metadata": {},
   "outputs": [],
   "source": [
    "#ucitavanje objavljenih gena\n",
    "\n",
    "geneFile =  pd.ExcelFile('C:/Users/Sara/Documents/My Fax/UZOP/files/objavljeni_geni.xls')\n",
    "sheet = geneFile.parse('Table S1') \n",
    "genes = dict()\n",
    "for cell in sheet.iloc[1:, 0]:\n",
    "    genes[cell] = 0\n"
   ]
  },
  {
   "cell_type": "code",
   "execution_count": null,
   "id": "1d79d1f6",
   "metadata": {},
   "outputs": [],
   "source": [
    "#KMeans importi\n",
    "\n",
    "import matplotlib.pyplot as plt\n",
    "from sklearn.datasets import make_blobs\n",
    "from sklearn.cluster import KMeans\n"
   ]
  },
  {
   "cell_type": "code",
   "execution_count": null,
   "id": "6f9c3dfc",
   "metadata": {},
   "outputs": [],
   "source": [
    "#KMeans\n",
    "km_df = mad_df.T\n",
    "print(km_df.shape)\n",
    "model = KMeans(\n",
    "    init=\"k-means++\",\n",
    "    n_clusters=3,\n",
    "    n_init=4,\n",
    "    max_iter=300,\n",
    "    )\n",
    "\n",
    "#kmeans.fit(km_df)\n",
    "#id_clust = kmeans.fit_predict(km_df)\n",
    "#print(id_clust)"
   ]
  },
  {
   "cell_type": "code",
   "execution_count": null,
   "id": "b8ea66ef-e442-4190-b887-50eecb13e3a7",
   "metadata": {},
   "outputs": [],
   "source": [
    "pca = PCA(n_components = 2)\n",
    "data = pca.fit_transform(km_df)\n",
    "label = model.fit_predict(km_df)\n",
    "print(label)\n",
    "plt.figure(figsize=(10,10))\n",
    "uniq = np.unique(label)\n",
    "for i in uniq:\n",
    "   plt.scatter(data[label == i , 0] , data[label == i , 1] , label = i)"
   ]
  },
  {
   "cell_type": "markdown",
   "id": "2f7e4d27",
   "metadata": {},
   "source": [
    "### 3)\tKlasifikacija pomoću 90 gena\n",
    "Zadnji korak u ovom projektu je treniranje klasifikatora koji na temelju 90 najznačajnijih gena određuje kojem klasteru (C1, C2, ili C3) pripada karcinom"
   ]
  },
  {
   "cell_type": "code",
   "execution_count": null,
   "id": "c0ea218d",
   "metadata": {},
   "outputs": [],
   "source": [
    "#feature selection algoritam\n",
    "from sklearn.feature_selection import SelectKBest\n",
    "from sklearn.feature_selection import chi2\n",
    "\n",
    "select_df = SelectKBest(chi2, k=90).fit_transform(mad_df.T, label)\n",
    "print(select_df)\n"
   ]
  },
  {
   "cell_type": "code",
   "execution_count": null,
   "id": "e2a9d8ab",
   "metadata": {},
   "outputs": [],
   "source": [
    "#klasifikator SVM\n",
    "\n",
    "from sklearn.pipeline import make_pipeline\n",
    "from sklearn.preprocessing import StandardScaler\n",
    "X = np.array([[-1, -1], [-2, -1], [1, 1], [2, 1]])\n",
    "y = np.array([1, 1, 2, 2])\n",
    "from sklearn.svm import SVC\n",
    "clf = make_pipeline(StandardScaler(), SVC(gamma='auto'))\n",
    "clf.fit(select_df, label)\n",
    "print(clf.predict(select_df))"
   ]
  },
  {
   "cell_type": "code",
   "execution_count": null,
   "id": "2f4a64c0",
   "metadata": {},
   "outputs": [],
   "source": [
    "#prikaz rezultata\n"
   ]
  }
 ],
 "metadata": {
  "kernelspec": {
   "display_name": "Python 3 (ipykernel)",
   "language": "python",
   "name": "python3"
  },
  "language_info": {
   "codemirror_mode": {
    "name": "ipython",
    "version": 3
   },
   "file_extension": ".py",
   "mimetype": "text/x-python",
   "name": "python",
   "nbconvert_exporter": "python",
   "pygments_lexer": "ipython3",
   "version": "3.8.8"
  }
 },
 "nbformat": 4,
 "nbformat_minor": 5
}
